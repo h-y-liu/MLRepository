{
 "cells": [
  {
   "cell_type": "code",
   "execution_count": 1,
   "id": "1022e4d8",
   "metadata": {},
   "outputs": [],
   "source": [
    "import pandas as pd"
   ]
  },
  {
   "cell_type": "markdown",
   "id": "a98f5070",
   "metadata": {},
   "source": [
    "# 1.) Clean the Apple Data to get a quarterly series of EPS."
   ]
  },
  {
   "cell_type": "code",
   "execution_count": 2,
   "id": "c7f8e883",
   "metadata": {},
   "outputs": [],
   "source": [
    "y = pd.read_csv(\"AAPL_quarterly_financials.csv\")"
   ]
  },
  {
   "cell_type": "code",
   "execution_count": 3,
   "id": "ae51a445",
   "metadata": {},
   "outputs": [],
   "source": [
    "y.index = y.name"
   ]
  },
  {
   "cell_type": "code",
   "execution_count": 4,
   "id": "de1f7a02",
   "metadata": {},
   "outputs": [],
   "source": [
    "y = pd.DataFrame(y.loc[\"BasicEPS\", :]).iloc[2:,:]"
   ]
  },
  {
   "cell_type": "code",
   "execution_count": 5,
   "id": "76532511",
   "metadata": {},
   "outputs": [],
   "source": [
    "y.index = pd.to_datetime(y.index)"
   ]
  },
  {
   "cell_type": "code",
   "execution_count": 6,
   "id": "0a423608",
   "metadata": {},
   "outputs": [
    {
     "data": {
      "text/html": [
       "<div>\n",
       "<style scoped>\n",
       "    .dataframe tbody tr th:only-of-type {\n",
       "        vertical-align: middle;\n",
       "    }\n",
       "\n",
       "    .dataframe tbody tr th {\n",
       "        vertical-align: top;\n",
       "    }\n",
       "\n",
       "    .dataframe thead th {\n",
       "        text-align: right;\n",
       "    }\n",
       "</style>\n",
       "<table border=\"1\" class=\"dataframe\">\n",
       "  <thead>\n",
       "    <tr style=\"text-align: right;\">\n",
       "      <th></th>\n",
       "      <th>BasicEPS</th>\n",
       "    </tr>\n",
       "  </thead>\n",
       "  <tbody>\n",
       "    <tr>\n",
       "      <th>2004-03-31</th>\n",
       "      <td>0.002</td>\n",
       "    </tr>\n",
       "    <tr>\n",
       "      <th>2004-06-30</th>\n",
       "      <td>0.003</td>\n",
       "    </tr>\n",
       "    <tr>\n",
       "      <th>2004-09-30</th>\n",
       "      <td>0.0</td>\n",
       "    </tr>\n",
       "    <tr>\n",
       "      <th>2004-12-31</th>\n",
       "      <td>0.013</td>\n",
       "    </tr>\n",
       "    <tr>\n",
       "      <th>2005-03-31</th>\n",
       "      <td>0.013</td>\n",
       "    </tr>\n",
       "    <tr>\n",
       "      <th>...</th>\n",
       "      <td>...</td>\n",
       "    </tr>\n",
       "    <tr>\n",
       "      <th>2022-09-30</th>\n",
       "      <td>1.29</td>\n",
       "    </tr>\n",
       "    <tr>\n",
       "      <th>2022-12-31</th>\n",
       "      <td>1.89</td>\n",
       "    </tr>\n",
       "    <tr>\n",
       "      <th>2023-03-31</th>\n",
       "      <td>1.53</td>\n",
       "    </tr>\n",
       "    <tr>\n",
       "      <th>2023-06-30</th>\n",
       "      <td>1.27</td>\n",
       "    </tr>\n",
       "    <tr>\n",
       "      <th>2023-09-30</th>\n",
       "      <td>1.47</td>\n",
       "    </tr>\n",
       "  </tbody>\n",
       "</table>\n",
       "<p>79 rows × 1 columns</p>\n",
       "</div>"
      ],
      "text/plain": [
       "           BasicEPS\n",
       "2004-03-31    0.002\n",
       "2004-06-30    0.003\n",
       "2004-09-30      0.0\n",
       "2004-12-31    0.013\n",
       "2005-03-31    0.013\n",
       "...             ...\n",
       "2022-09-30     1.29\n",
       "2022-12-31     1.89\n",
       "2023-03-31     1.53\n",
       "2023-06-30     1.27\n",
       "2023-09-30     1.47\n",
       "\n",
       "[79 rows x 1 columns]"
      ]
     },
     "execution_count": 6,
     "metadata": {},
     "output_type": "execute_result"
    }
   ],
   "source": [
    "# CHECK IF NAS ARE NO DIVIDEND PERIOD\n",
    "y = y.sort_index().fillna(0.)\n",
    "y = y.loc[\"2004-03-31\":]\n",
    "y"
   ]
  },
  {
   "cell_type": "markdown",
   "id": "756c4057",
   "metadata": {},
   "source": [
    "# 2.) Come up with 6 search terms you think could nowcast earnings. (Different than the ones I used) Add in 3 terms that that you think will not Nowcast earnings. Pull in the gtrends data. Clean it to have a quarterly average."
   ]
  },
  {
   "cell_type": "code",
   "execution_count": 7,
   "id": "4f4cbba8",
   "metadata": {},
   "outputs": [],
   "source": [
    "from pytrends.request import TrendReq"
   ]
  },
  {
   "cell_type": "code",
   "execution_count": 44,
   "id": "750955ea",
   "metadata": {},
   "outputs": [],
   "source": [
    "# Create pytrends object\n",
    "pytrends = TrendReq(hl='en-US', tz=360)\n",
    "\n",
    "# Set up the keywords and the timeframe\n",
    "keywords = [\"MacBook\", \"Siri\", \"iPad\", \"AirPods\", \"AppleCare\", \"Apple trade-in\", \"Breakfast\", \"NKU\", \"Water\"]\n",
    "\n",
    "start_date = '2004-01-01'\n",
    "end_date = '2023-09-30'\n",
    "\n",
    "# Create an empty DataFrame to store the results\n",
    "df = pd.DataFrame()\n",
    "\n",
    "# Iterate through keywords and fetch data\n",
    "for keyword in keywords:\n",
    "    pytrends.build_payload([keyword], cat=0, timeframe=f'{start_date} {end_date}', geo='', gprop='')\n",
    "    interest_over_time_df = pytrends.interest_over_time()\n",
    "    df[keyword] = interest_over_time_df[keyword]"
   ]
  },
  {
   "cell_type": "code",
   "execution_count": 45,
   "id": "44f27212",
   "metadata": {},
   "outputs": [],
   "source": [
    "df = df.resample(\"Q\").mean()"
   ]
  },
  {
   "cell_type": "code",
   "execution_count": 46,
   "id": "c4bd3953",
   "metadata": {},
   "outputs": [
    {
     "data": {
      "text/html": [
       "<div>\n",
       "<style scoped>\n",
       "    .dataframe tbody tr th:only-of-type {\n",
       "        vertical-align: middle;\n",
       "    }\n",
       "\n",
       "    .dataframe tbody tr th {\n",
       "        vertical-align: top;\n",
       "    }\n",
       "\n",
       "    .dataframe thead th {\n",
       "        text-align: right;\n",
       "    }\n",
       "</style>\n",
       "<table border=\"1\" class=\"dataframe\">\n",
       "  <thead>\n",
       "    <tr style=\"text-align: right;\">\n",
       "      <th></th>\n",
       "      <th>MacBook</th>\n",
       "      <th>Siri</th>\n",
       "      <th>iPad</th>\n",
       "      <th>AirPods</th>\n",
       "      <th>AppleCare</th>\n",
       "      <th>Apple trade-in</th>\n",
       "      <th>Breakfast</th>\n",
       "      <th>NKU</th>\n",
       "      <th>Water</th>\n",
       "    </tr>\n",
       "    <tr>\n",
       "      <th>date</th>\n",
       "      <th></th>\n",
       "      <th></th>\n",
       "      <th></th>\n",
       "      <th></th>\n",
       "      <th></th>\n",
       "      <th></th>\n",
       "      <th></th>\n",
       "      <th></th>\n",
       "      <th></th>\n",
       "    </tr>\n",
       "  </thead>\n",
       "  <tbody>\n",
       "    <tr>\n",
       "      <th>2004-03-31</th>\n",
       "      <td>0.000000</td>\n",
       "      <td>3.666667</td>\n",
       "      <td>0.000000</td>\n",
       "      <td>0.000000</td>\n",
       "      <td>15.333333</td>\n",
       "      <td>65.333333</td>\n",
       "      <td>78.000000</td>\n",
       "      <td>21.000000</td>\n",
       "      <td>61.000000</td>\n",
       "    </tr>\n",
       "    <tr>\n",
       "      <th>2004-06-30</th>\n",
       "      <td>0.000000</td>\n",
       "      <td>3.666667</td>\n",
       "      <td>0.000000</td>\n",
       "      <td>0.000000</td>\n",
       "      <td>15.000000</td>\n",
       "      <td>0.000000</td>\n",
       "      <td>87.000000</td>\n",
       "      <td>19.333333</td>\n",
       "      <td>68.333333</td>\n",
       "    </tr>\n",
       "    <tr>\n",
       "      <th>2004-09-30</th>\n",
       "      <td>0.000000</td>\n",
       "      <td>3.666667</td>\n",
       "      <td>0.000000</td>\n",
       "      <td>0.000000</td>\n",
       "      <td>15.666667</td>\n",
       "      <td>14.666667</td>\n",
       "      <td>91.333333</td>\n",
       "      <td>25.666667</td>\n",
       "      <td>68.333333</td>\n",
       "    </tr>\n",
       "    <tr>\n",
       "      <th>2004-12-31</th>\n",
       "      <td>0.000000</td>\n",
       "      <td>7.000000</td>\n",
       "      <td>0.000000</td>\n",
       "      <td>0.000000</td>\n",
       "      <td>16.333333</td>\n",
       "      <td>53.666667</td>\n",
       "      <td>64.000000</td>\n",
       "      <td>22.333333</td>\n",
       "      <td>59.000000</td>\n",
       "    </tr>\n",
       "    <tr>\n",
       "      <th>2005-03-31</th>\n",
       "      <td>0.000000</td>\n",
       "      <td>5.000000</td>\n",
       "      <td>0.000000</td>\n",
       "      <td>0.000000</td>\n",
       "      <td>18.333333</td>\n",
       "      <td>27.333333</td>\n",
       "      <td>72.666667</td>\n",
       "      <td>21.333333</td>\n",
       "      <td>70.000000</td>\n",
       "    </tr>\n",
       "    <tr>\n",
       "      <th>...</th>\n",
       "      <td>...</td>\n",
       "      <td>...</td>\n",
       "      <td>...</td>\n",
       "      <td>...</td>\n",
       "      <td>...</td>\n",
       "      <td>...</td>\n",
       "      <td>...</td>\n",
       "      <td>...</td>\n",
       "      <td>...</td>\n",
       "    </tr>\n",
       "    <tr>\n",
       "      <th>2022-09-30</th>\n",
       "      <td>83.000000</td>\n",
       "      <td>28.666667</td>\n",
       "      <td>23.666667</td>\n",
       "      <td>58.333333</td>\n",
       "      <td>61.000000</td>\n",
       "      <td>41.333333</td>\n",
       "      <td>88.000000</td>\n",
       "      <td>36.666667</td>\n",
       "      <td>91.666667</td>\n",
       "    </tr>\n",
       "    <tr>\n",
       "      <th>2022-12-31</th>\n",
       "      <td>77.333333</td>\n",
       "      <td>26.000000</td>\n",
       "      <td>27.333333</td>\n",
       "      <td>66.333333</td>\n",
       "      <td>59.333333</td>\n",
       "      <td>38.666667</td>\n",
       "      <td>78.666667</td>\n",
       "      <td>41.666667</td>\n",
       "      <td>82.000000</td>\n",
       "    </tr>\n",
       "    <tr>\n",
       "      <th>2023-03-31</th>\n",
       "      <td>76.000000</td>\n",
       "      <td>24.333333</td>\n",
       "      <td>23.666667</td>\n",
       "      <td>55.333333</td>\n",
       "      <td>53.000000</td>\n",
       "      <td>37.666667</td>\n",
       "      <td>74.333333</td>\n",
       "      <td>51.333333</td>\n",
       "      <td>89.333333</td>\n",
       "    </tr>\n",
       "    <tr>\n",
       "      <th>2023-06-30</th>\n",
       "      <td>68.666667</td>\n",
       "      <td>24.666667</td>\n",
       "      <td>21.000000</td>\n",
       "      <td>48.000000</td>\n",
       "      <td>43.333333</td>\n",
       "      <td>32.333333</td>\n",
       "      <td>82.333333</td>\n",
       "      <td>36.666667</td>\n",
       "      <td>91.666667</td>\n",
       "    </tr>\n",
       "    <tr>\n",
       "      <th>2023-09-30</th>\n",
       "      <td>78.000000</td>\n",
       "      <td>23.333333</td>\n",
       "      <td>23.666667</td>\n",
       "      <td>52.666667</td>\n",
       "      <td>53.666667</td>\n",
       "      <td>55.666667</td>\n",
       "      <td>80.666667</td>\n",
       "      <td>32.333333</td>\n",
       "      <td>93.666667</td>\n",
       "    </tr>\n",
       "  </tbody>\n",
       "</table>\n",
       "<p>79 rows × 9 columns</p>\n",
       "</div>"
      ],
      "text/plain": [
       "              MacBook       Siri       iPad    AirPods  AppleCare  \\\n",
       "date                                                                \n",
       "2004-03-31   0.000000   3.666667   0.000000   0.000000  15.333333   \n",
       "2004-06-30   0.000000   3.666667   0.000000   0.000000  15.000000   \n",
       "2004-09-30   0.000000   3.666667   0.000000   0.000000  15.666667   \n",
       "2004-12-31   0.000000   7.000000   0.000000   0.000000  16.333333   \n",
       "2005-03-31   0.000000   5.000000   0.000000   0.000000  18.333333   \n",
       "...               ...        ...        ...        ...        ...   \n",
       "2022-09-30  83.000000  28.666667  23.666667  58.333333  61.000000   \n",
       "2022-12-31  77.333333  26.000000  27.333333  66.333333  59.333333   \n",
       "2023-03-31  76.000000  24.333333  23.666667  55.333333  53.000000   \n",
       "2023-06-30  68.666667  24.666667  21.000000  48.000000  43.333333   \n",
       "2023-09-30  78.000000  23.333333  23.666667  52.666667  53.666667   \n",
       "\n",
       "            Apple trade-in  Breakfast        NKU      Water  \n",
       "date                                                         \n",
       "2004-03-31       65.333333  78.000000  21.000000  61.000000  \n",
       "2004-06-30        0.000000  87.000000  19.333333  68.333333  \n",
       "2004-09-30       14.666667  91.333333  25.666667  68.333333  \n",
       "2004-12-31       53.666667  64.000000  22.333333  59.000000  \n",
       "2005-03-31       27.333333  72.666667  21.333333  70.000000  \n",
       "...                    ...        ...        ...        ...  \n",
       "2022-09-30       41.333333  88.000000  36.666667  91.666667  \n",
       "2022-12-31       38.666667  78.666667  41.666667  82.000000  \n",
       "2023-03-31       37.666667  74.333333  51.333333  89.333333  \n",
       "2023-06-30       32.333333  82.333333  36.666667  91.666667  \n",
       "2023-09-30       55.666667  80.666667  32.333333  93.666667  \n",
       "\n",
       "[79 rows x 9 columns]"
      ]
     },
     "execution_count": 46,
     "metadata": {},
     "output_type": "execute_result"
    }
   ],
   "source": [
    "df"
   ]
  },
  {
   "cell_type": "markdown",
   "id": "73c7abb8",
   "metadata": {},
   "source": [
    "# 3.) Normalize all the X data"
   ]
  },
  {
   "cell_type": "code",
   "execution_count": 47,
   "id": "0cf724f7",
   "metadata": {},
   "outputs": [],
   "source": [
    "from sklearn.preprocessing import StandardScaler"
   ]
  },
  {
   "cell_type": "code",
   "execution_count": 48,
   "id": "5694510c",
   "metadata": {},
   "outputs": [],
   "source": [
    "scaler = StandardScaler()"
   ]
  },
  {
   "cell_type": "code",
   "execution_count": 49,
   "id": "799b10c7",
   "metadata": {},
   "outputs": [],
   "source": [
    "X_scaled = scaler.fit_transform(df)"
   ]
  },
  {
   "cell_type": "code",
   "execution_count": 50,
   "id": "48755080",
   "metadata": {},
   "outputs": [
    {
     "data": {
      "text/plain": [
       "array([[-2.38488247e+00, -1.19094213e+00, -1.13141679e+00,\n",
       "        -6.10597179e-01, -1.75732773e+00,  3.38341237e+00,\n",
       "         7.18538874e-01, -1.75415899e+00, -5.27879047e-01],\n",
       "       [-2.38488247e+00, -1.19094213e+00, -1.13141679e+00,\n",
       "        -6.10597179e-01, -1.77244082e+00, -1.31386703e+00,\n",
       "         1.45221212e+00, -1.88401147e+00,  4.62472257e-02],\n",
       "       [-2.38488247e+00, -1.19094213e+00, -1.13141679e+00,\n",
       "        -6.10597179e-01, -1.74221463e+00, -2.59375736e-01,\n",
       "         1.80546221e+00, -1.39057207e+00,  4.62472257e-02],\n",
       "       [-2.38488247e+00, -9.34161486e-01, -1.13141679e+00,\n",
       "        -6.10597179e-01, -1.71198844e+00,  2.54461248e+00,\n",
       "        -4.22730625e-01, -1.65027701e+00, -6.84458940e-01],\n",
       "       [-2.38488247e+00, -1.08822987e+00, -1.13141679e+00,\n",
       "        -6.10597179e-01, -1.62130987e+00,  6.51321292e-01,\n",
       "         2.83769541e-01, -1.72818850e+00,  1.76730470e-01],\n",
       "       [-2.38488247e+00, -1.06255181e+00, -1.13141679e+00,\n",
       "        -6.10597179e-01, -1.65153606e+00,  1.15460123e+00,\n",
       "         1.20765437e+00, -1.88401147e+00, -2.66912560e-01],\n",
       "       [-2.38488247e+00, -9.85517615e-01, -1.13141679e+00,\n",
       "        -6.10597179e-01, -1.63642297e+00, -1.31386703e+00,\n",
       "         1.26200054e+00, -1.41654256e+00, -5.81393694e-02],\n",
       "       [-2.38488247e+00, -8.82805357e-01, -1.13141679e+00,\n",
       "        -6.10597179e-01, -1.57597059e+00,  3.87698468e-01,\n",
       "        -5.04249875e-01, -1.46848355e+00, -8.41038833e-01],\n",
       "       [-1.97210807e+00, -8.31449228e-01, -1.13141679e+00,\n",
       "        -6.10597179e-01, -1.50040511e+00, -1.31386703e+00,\n",
       "        -3.95557542e-01, -1.57236553e+00, -8.67135481e-01],\n",
       "       [-1.30134967e+00, -1.01119568e+00, -1.13141679e+00,\n",
       "        -6.10597179e-01, -1.57597059e+00, -7.86621383e-01,\n",
       "         4.73981124e-01, -1.23474910e+00, -4.49589101e-01],\n",
       "       [-1.09496247e+00, -1.01119568e+00, -1.13141679e+00,\n",
       "        -6.10597179e-01, -1.25859559e+00, -1.31386703e+00,\n",
       "         9.08750457e-01, -1.20877860e+00, -2.40815911e-01],\n",
       "       [-1.14655927e+00, -1.03687374e+00, -1.13141679e+00,\n",
       "        -6.10597179e-01, -1.36438726e+00, -5.22998559e-01,\n",
       "        -1.02053846e+00, -1.41654256e+00, -1.38906846e+00],\n",
       "       [-1.14655927e+00, -9.59839550e-01, -1.13141679e+00,\n",
       "        -6.10597179e-01, -1.45506583e+00, -5.22998559e-01,\n",
       "        -7.48807625e-01, -1.20877860e+00, -8.93232130e-01],\n",
       "       [-1.10786167e+00, -8.31449228e-01, -1.13141679e+00,\n",
       "        -6.10597179e-01, -1.37950035e+00, -1.87478602e-01,\n",
       "        -6.94805421e-02, -1.18280811e+00, -3.45202506e-01],\n",
       "       [-9.01474469e-01, -7.54415034e-01, -1.13141679e+00,\n",
       "        -6.10597179e-01, -1.22836940e+00, -9.16157569e-02,\n",
       "        -1.23826709e-01, -7.93250685e-01, -7.36652238e-01],\n",
       "       [-6.95087269e-01, -9.85517615e-01, -1.13141679e+00,\n",
       "        -6.10597179e-01, -1.15280393e+00, -7.62655672e-01,\n",
       "        -1.45530779e+00, -4.29663757e-01, -1.23248856e+00],\n",
       "       [ 7.88647290e-02, -1.03687374e+00, -1.13141679e+00,\n",
       "        -6.10597179e-01, -1.12257774e+00,  1.72007067e-01,\n",
       "        -1.12923079e+00,  5.31244553e-01, -1.07590867e+00],\n",
       "       [-6.95087269e-01, -1.03687374e+00, -1.13141679e+00,\n",
       "        -6.10597179e-01, -1.21325631e+00, -4.99032848e-01,\n",
       "        -7.75980708e-01,  6.09156038e-01, -5.53975696e-01],\n",
       "       [-2.04917670e-01, -9.59839550e-01, -1.13141679e+00,\n",
       "        -6.10597179e-01, -8.50542028e-01, -5.22998559e-01,\n",
       "        -3.68384459e-01,  1.18346559e-02, -6.32265642e-01],\n",
       "       [ 1.04663129e-01, -1.03687374e+00, -1.13141679e+00,\n",
       "        -6.10597179e-01, -1.00167298e+00, -5.70929982e-01,\n",
       "        -1.94442329e+00,  4.53333068e-01, -1.49345505e+00],\n",
       "       [-2.69413670e-01, -1.01119568e+00, -1.13141679e+00,\n",
       "        -6.10597179e-01, -9.86559883e-01, -5.94895693e-01,\n",
       "        -1.53682704e+00,  1.10259544e+00, -1.23248856e+00],\n",
       "       [-3.33909670e-01, -9.59839550e-01, -1.13141679e+00,\n",
       "        -6.10597179e-01, -9.56333693e-01,  1.00109933e-01,\n",
       "        -1.07488462e+00,  1.05065445e+00, -7.88845535e-01],\n",
       "       [-2.43288708e-02, -1.06255181e+00, -1.13141679e+00,\n",
       "        -6.10597179e-01, -4.42488464e-01, -1.09817563e+00,\n",
       "        -6.40115292e-01,  4.01392079e-01, -7.62748886e-01],\n",
       "       [ 5.30663290e-02, -1.08822987e+00, -1.13141679e+00,\n",
       "        -6.10597179e-01, -4.57601559e-01, -7.38689961e-01,\n",
       "        -1.80855787e+00,  4.79303563e-01, -1.46735840e+00],\n",
       "       [ 1.46952911e-03, -9.85517615e-01, -4.09587286e-01,\n",
       "        -6.10597179e-01, -5.78506319e-01, -3.55238581e-01,\n",
       "        -1.64551937e+00,  1.02468396e+00, -1.31077851e+00],\n",
       "       [ 1.43687291e-02, -1.03687374e+00,  6.03750285e-01,\n",
       "        -6.10597179e-01, -3.36696799e-01, -1.19403847e+00,\n",
       "        -1.15640387e+00,  1.23244791e+00, -7.10555589e-01],\n",
       "       [ 1.46952911e-03, -1.08822987e+00,  4.64936919e-01,\n",
       "        -6.10597179e-01,  4.11305749e-02, -4.99032848e-01,\n",
       "        -7.75980708e-01,  1.05065445e+00, -8.93232130e-01],\n",
       "       [ 5.69034328e-01, -1.08822987e+00,  9.50783700e-01,\n",
       "        -6.10597179e-01, -6.46610898e-02, -9.78347073e-01,\n",
       "        -1.64551937e+00,  3.49451089e-01, -1.36297181e+00],\n",
       "       [ 5.94832728e-01, -1.08822987e+00,  1.31169845e+00,\n",
       "        -6.10597179e-01, -2.00678944e-01, -5.22998559e-01,\n",
       "        -1.53682704e+00,  7.90949501e-01, -1.10200532e+00],\n",
       "       [ 2.59453529e-01, -1.06255181e+00,  1.35334246e+00,\n",
       "        -6.10597179e-01, -2.91357514e-01, -7.38689961e-01,\n",
       "        -1.07488462e+00,  2.19598615e-01, -5.01782399e-01],\n",
       "       [ 8.14119127e-01, -1.11390794e+00,  1.35334246e+00,\n",
       "        -6.10597179e-01, -3.66922989e-01, -6.66792827e-01,\n",
       "        -8.03153792e-01,  1.41687130e-01, -6.58362291e-01],\n",
       "       [ 6.46429528e-01,  4.45823206e+00,  1.79754523e+00,\n",
       "        -6.10597179e-01,  3.43392474e-01, -8.10587095e-01,\n",
       "        -1.94442329e+00,  1.15716635e-01, -1.54564835e+00],\n",
       "       [ 4.52941528e-01,  2.71212367e+00,  2.25562934e+00,\n",
       "        -6.10597179e-01,  6.00315089e-01, -7.14724250e-01,\n",
       "        -1.42813471e+00,  5.05274058e-01, -9.19328779e-01],\n",
       "       [ 7.49623128e-01,  1.35118626e+00,  1.82530790e+00,\n",
       "        -6.10597179e-01,  1.77148430e-01, -1.00231278e+00,\n",
       "        -1.02053846e+00, -1.18017818e-01, -5.53975696e-01],\n",
       "       [ 9.43111127e-01,  1.76203529e+00,  1.99188394e+00,\n",
       "        -6.10597179e-01,  1.17461270e+00, -1.87478602e-01,\n",
       "        -5.31422958e-01,  8.97461404e-02, -3.97395803e-01],\n",
       "       [ 7.49623128e-01,  1.50525464e+00,  2.89417082e+00,\n",
       "        -6.10597179e-01,  1.35596984e+00, -4.99032848e-01,\n",
       "        -1.29226929e+00,  8.97461404e-02, -1.15419862e+00],\n",
       "       [ 2.85251929e-01,  8.37624965e-01,  1.95023993e+00,\n",
       "        -6.10597179e-01,  8.57237703e-01, -1.07420992e+00,\n",
       "        -8.57499958e-01,  4.79303563e-01, -9.71522077e-01],\n",
       "       [ 9.17639289e-02,  4.26775933e-01,  1.39498647e+00,\n",
       "        -6.10597179e-01,  4.94523424e-01, -4.75067137e-01,\n",
       "        -6.12942208e-01, -1.69958808e-01, -3.97395803e-01],\n",
       "       [ 5.17437528e-01,  6.06522384e-01,  1.38110513e+00,\n",
       "        -6.10597179e-01,  9.93255558e-01,  1.70581259e+00,\n",
       "        -1.78172875e-01, -1.41358390e-02, -4.49589101e-01],\n",
       "       [ 7.88320727e-01,  3.24063675e-01,  1.99188394e+00,\n",
       "        -6.10597179e-01,  1.25017817e+00,  6.03389869e-01,\n",
       "        -6.67288375e-01,  1.41687130e-01, -9.97618725e-01],\n",
       "       [ 4.91639128e-01,  2.47029481e-01,  1.29781711e+00,\n",
       "        -6.10597179e-01,  4.79410329e-01, -7.14724250e-01,\n",
       "        -4.77076792e-01,  6.35126532e-01, -6.06168994e-01],\n",
       "       [ 2.20755929e-01,  4.16049653e-02,  9.09139690e-01,\n",
       "        -6.10597179e-01,  7.13567648e-02, -4.27135714e-01,\n",
       "        -6.94805421e-02,  1.15716635e-01, -2.66912560e-01],\n",
       "       [ 6.59328728e-01,  1.95673352e-01,  8.25851670e-01,\n",
       "        -6.10597179e-01,  7.81672228e-01,  3.39767046e-01,\n",
       "        -6.94805421e-02,  1.41687130e-01, -3.20427206e-02],\n",
       "       [ 6.33530328e-01,  1.69995288e-01,  1.00630905e+00,\n",
       "        -6.10597179e-01,  1.31063055e+00, -6.76500457e-02,\n",
       "        -8.84673042e-01,  6.61097027e-01, -7.10555589e-01],\n",
       "       [ 7.10925528e-01,  1.69995288e-01,  5.20462265e-01,\n",
       "        -6.10597179e-01,  4.79410329e-01, -9.16157569e-02,\n",
       "        -2.59692125e-01,  1.20647742e+00, -5.01782399e-01],\n",
       "       [ 4.40042328e-01,  5.80844320e-01,  3.26123553e-01,\n",
       "        -6.10597179e-01,  3.43392474e-01, -6.66792827e-01,\n",
       "         9.35579577e-02,  4.27362574e-01,  4.37696957e-01],\n",
       "       [ 7.10925528e-01,  1.35118626e+00,  4.78818256e-01,\n",
       "        -6.10597179e-01,  1.21995198e+00, -4.27135714e-01,\n",
       "         5.01154207e-01,  6.61097027e-01,  4.11600309e-01],\n",
       "       [ 6.98026328e-01,  9.91693352e-01,  5.06580929e-01,\n",
       "        -6.10597179e-01,  1.25017817e+00, -2.11444313e-01,\n",
       "        -2.05345959e-01,  1.46618237e+00, -7.62748886e-01],\n",
       "       [ 3.36848728e-01,  1.04304948e+00,  1.31784841e-01,\n",
       "        -6.10597179e-01,  2.22487714e-01, -3.79204292e-01,\n",
       "         3.92117911e-02,  2.08947424e+00, -2.14719262e-01],\n",
       "       [ 2.98151128e-01,  5.29488191e-01,  4.84968215e-02,\n",
       "        -5.96509219e-01,  2.22487714e-01, -5.94895693e-01,\n",
       "         5.28327291e-01,  1.36230039e+00,  2.55020416e-01],\n",
       "       [ 4.78739928e-01,  2.21351417e-01,  6.23781581e-02,\n",
       "        -5.26069416e-01,  8.57237703e-01, -5.46964271e-01,\n",
       "         5.01154207e-01,  6.35126532e-01,  5.68180201e-01],\n",
       "       [ 1.13659913e+00,  4.78132062e-01,  6.23781581e-02,\n",
       "        -4.13365731e-01,  1.03859484e+00, -6.66792827e-01,\n",
       "         1.20731041e-01,  1.20647742e+00, -8.42360182e-02],\n",
       "       [ 5.30336728e-01,  5.55166255e-01, -9.03165444e-02,\n",
       "        -3.85189809e-01,  5.24749614e-01, -5.70929982e-01,\n",
       "         5.01154207e-01,  3.31008750e+00,  4.37696957e-01],\n",
       "       [ 3.11050328e-01,  2.98385610e-01, -7.64352078e-02,\n",
       "        -4.41541652e-01,  4.94523424e-01, -7.62655672e-01,\n",
       "         1.04461587e+00,  9.46772471e-01,  8.81339986e-01],\n",
       "       [ 6.20631128e-01,  7.86268836e-01, -4.86725346e-02,\n",
       "        -3.85189809e-01,  7.81672228e-01, -3.07307158e-01,\n",
       "         9.90269707e-01,  1.67657625e-01,  9.07436635e-01],\n",
       "       [ 9.81808727e-01,  5.03810126e-01,  6.23781581e-02,\n",
       "        -1.59782439e-01,  1.58266626e+00, -2.35410024e-01,\n",
       "         5.01154207e-01,  1.05065445e+00,  3.59407011e-01],\n",
       "       [ 5.94832728e-01,  3.75419804e-01, -1.87485900e-01,\n",
       "        -1.45694479e-01,  9.78142463e-01, -5.94895693e-01,\n",
       "         7.72885041e-01,  1.51812336e+00,  1.24669307e+00],\n",
       "       [ 1.69159129e-01,  2.72707546e-01, -2.01367237e-01,\n",
       "        -1.17518558e-01,  5.39862709e-01, -6.66792827e-01,\n",
       "         1.20765437e+00,  1.15716635e-01,  1.48156291e+00],\n",
       "       [ 5.94832728e-01,  2.98385610e-01, -2.15248574e-01,\n",
       "         5.15369699e-02,  9.17690083e-01, -3.79204292e-01,\n",
       "         1.50655829e+00, -1.43988313e-01,  1.11620983e+00],\n",
       "       [ 5.56135128e-01,  4.01097868e-01, -2.09098614e-02,\n",
       "         7.27759080e-01,  1.14438651e+00,  1.48041356e-01,\n",
       "         7.72885041e-01,  5.05274058e-01,  3.07213713e-01],\n",
       "       [ 2.07856729e-01,  3.75419804e-01, -1.87485900e-01,\n",
       "         1.36171731e+00,  7.21219848e-01, -1.97186232e-02,\n",
       "         1.07178896e+00,  1.15453643e+00,  7.50856743e-01],\n",
       "       [-5.01272708e-02,  2.21351417e-01, -1.87485900e-01,\n",
       "         1.00951829e+00,  3.28279379e-01, -3.31272869e-01,\n",
       "         1.12613512e+00, -1.69958808e-01,  9.59629933e-01],\n",
       "       [ 3.75546328e-01,  2.21351417e-01, -2.29129910e-01,\n",
       "         1.13630994e+00,  1.09904722e+00,  2.43904201e-01,\n",
       "         1.66959679e+00, -2.73840788e-01,  1.42936961e+00],\n",
       "       [ 3.88445528e-01,  3.49741739e-01, -4.86725346e-02,\n",
       "         2.96774482e+00,  1.62800555e+00,  4.83561313e-01,\n",
       "         1.01744279e+00,  3.78051507e-02,  3.59407011e-01],\n",
       "       [ 3.88445528e-01,  2.72707546e-01, -1.45841891e-01,\n",
       "         1.98158757e+00,  5.70088899e-01, -1.15581468e-01,\n",
       "         5.28327291e-01,  1.15716635e-01,  5.68180201e-01],\n",
       "       [ 1.31718793e+00,  3.75419804e-01,  1.73428851e-01,\n",
       "         1.61530060e+00,  8.57237703e-01,  6.27355581e-01,\n",
       "        -5.04249875e-01, -1.10489662e+00,  1.50765956e+00],\n",
       "       [ 1.11080073e+00,  4.26775933e-01,  9.01408313e-02,\n",
       "         1.62938856e+00,  1.25017817e+00,  5.55458447e-01,\n",
       "         1.04461587e+00, -1.43988313e-01,  1.84691599e+00],\n",
       "       [ 7.36723928e-01,  3.49741739e-01,  1.45666178e-01,\n",
       "         2.05202738e+00,  1.38619603e+00,  1.63391545e+00,\n",
       "        -2.32519042e-01, -1.00101464e+00,  2.81117065e-01],\n",
       "       [ 5.69034328e-01,  3.49741739e-01, -4.86725346e-02,\n",
       "         1.48850895e+00,  4.34071044e-01,  6.99252714e-01,\n",
       "        -2.05345959e-01, -5.07575241e-01,  1.14230647e+00],\n",
       "       [ 2.20755929e-01,  3.49741739e-01, -9.03165444e-02,\n",
       "         1.20674974e+00,  1.92261525e-01,  6.99252714e-01,\n",
       "         1.04461587e+00, -1.10489662e+00,  1.69033610e+00],\n",
       "       [ 5.17437528e-01,  4.01097868e-01, -3.47911980e-02,\n",
       "         1.43215711e+00,  6.30541278e-01,  1.56201832e+00,\n",
       "         1.66959679e+00, -8.19221179e-01,  1.53375621e+00],\n",
       "       [ 7.62522328e-01,  5.03810126e-01,  7.62594947e-02,\n",
       "         2.31969863e+00,  1.03859484e+00,  2.32892108e+00,\n",
       "         1.28917362e+00, -8.45191674e-01,  5.94276850e-01],\n",
       "       [ 1.03340553e+00,  9.40337223e-01, -7.02852485e-03,\n",
       "         1.82662001e+00,  6.90993658e-01,  1.68184688e+00,\n",
       "         5.82673457e-01,  1.41687130e-01,  1.66423945e+00],\n",
       "       [ 6.07731928e-01,  5.55166255e-01, -1.73604564e-01,\n",
       "         1.47442099e+00, -9.48872798e-02,  9.86841249e-01,\n",
       "         1.12613512e+00, -4.29663757e-01,  2.05568918e+00],\n",
       "       [ 8.27018327e-01,  7.34912707e-01, -1.45841891e-01,\n",
       "         1.85479593e+00,  3.13166284e-01,  1.65788116e+00,\n",
       "         1.53373137e+00, -5.33545736e-01,  1.87301264e+00],\n",
       "       [ 6.07731928e-01,  5.29488191e-01,  6.85281173e-03,\n",
       "         2.19290698e+00,  2.37600809e-01,  1.46615547e+00,\n",
       "         7.72885041e-01, -1.43988313e-01,  1.11620983e+00],\n",
       "       [ 5.56135128e-01,  4.01097868e-01, -1.45841891e-01,\n",
       "         1.72800428e+00, -4.95479949e-02,  1.39425834e+00,\n",
       "         4.19634957e-01,  6.09156038e-01,  1.69033610e+00],\n",
       "       [ 2.72352729e-01,  4.26775933e-01, -2.56892583e-01,\n",
       "         1.41806915e+00, -4.87827749e-01,  1.01080696e+00,\n",
       "         1.07178896e+00, -5.33545736e-01,  1.87301264e+00],\n",
       "       [ 6.33530328e-01,  3.24063675e-01, -1.45841891e-01,\n",
       "         1.61530060e+00, -1.93218050e-02,  2.68840675e+00,\n",
       "         9.35923540e-01, -8.71162169e-01,  2.02959253e+00]])"
      ]
     },
     "execution_count": 50,
     "metadata": {},
     "output_type": "execute_result"
    }
   ],
   "source": [
    "X_scaled"
   ]
  },
  {
   "cell_type": "markdown",
   "id": "da43d5ef",
   "metadata": {},
   "source": [
    "# 4.) Run a Lasso with lambda of .13. Plot a bar chart."
   ]
  },
  {
   "cell_type": "code",
   "execution_count": 51,
   "id": "b7ff06aa",
   "metadata": {},
   "outputs": [],
   "source": [
    "from sklearn.linear_model import Lasso\n",
    "import matplotlib.pyplot as plt"
   ]
  },
  {
   "cell_type": "code",
   "execution_count": 87,
   "id": "b1e12efb",
   "metadata": {},
   "outputs": [],
   "source": [
    "lasso = Lasso(alpha = .13)"
   ]
  },
  {
   "cell_type": "code",
   "execution_count": 88,
   "id": "f7311bec",
   "metadata": {},
   "outputs": [
    {
     "data": {
      "text/html": [
       "<style>#sk-container-id-12 {color: black;}#sk-container-id-12 pre{padding: 0;}#sk-container-id-12 div.sk-toggleable {background-color: white;}#sk-container-id-12 label.sk-toggleable__label {cursor: pointer;display: block;width: 100%;margin-bottom: 0;padding: 0.3em;box-sizing: border-box;text-align: center;}#sk-container-id-12 label.sk-toggleable__label-arrow:before {content: \"▸\";float: left;margin-right: 0.25em;color: #696969;}#sk-container-id-12 label.sk-toggleable__label-arrow:hover:before {color: black;}#sk-container-id-12 div.sk-estimator:hover label.sk-toggleable__label-arrow:before {color: black;}#sk-container-id-12 div.sk-toggleable__content {max-height: 0;max-width: 0;overflow: hidden;text-align: left;background-color: #f0f8ff;}#sk-container-id-12 div.sk-toggleable__content pre {margin: 0.2em;color: black;border-radius: 0.25em;background-color: #f0f8ff;}#sk-container-id-12 input.sk-toggleable__control:checked~div.sk-toggleable__content {max-height: 200px;max-width: 100%;overflow: auto;}#sk-container-id-12 input.sk-toggleable__control:checked~label.sk-toggleable__label-arrow:before {content: \"▾\";}#sk-container-id-12 div.sk-estimator input.sk-toggleable__control:checked~label.sk-toggleable__label {background-color: #d4ebff;}#sk-container-id-12 div.sk-label input.sk-toggleable__control:checked~label.sk-toggleable__label {background-color: #d4ebff;}#sk-container-id-12 input.sk-hidden--visually {border: 0;clip: rect(1px 1px 1px 1px);clip: rect(1px, 1px, 1px, 1px);height: 1px;margin: -1px;overflow: hidden;padding: 0;position: absolute;width: 1px;}#sk-container-id-12 div.sk-estimator {font-family: monospace;background-color: #f0f8ff;border: 1px dotted black;border-radius: 0.25em;box-sizing: border-box;margin-bottom: 0.5em;}#sk-container-id-12 div.sk-estimator:hover {background-color: #d4ebff;}#sk-container-id-12 div.sk-parallel-item::after {content: \"\";width: 100%;border-bottom: 1px solid gray;flex-grow: 1;}#sk-container-id-12 div.sk-label:hover label.sk-toggleable__label {background-color: #d4ebff;}#sk-container-id-12 div.sk-serial::before {content: \"\";position: absolute;border-left: 1px solid gray;box-sizing: border-box;top: 0;bottom: 0;left: 50%;z-index: 0;}#sk-container-id-12 div.sk-serial {display: flex;flex-direction: column;align-items: center;background-color: white;padding-right: 0.2em;padding-left: 0.2em;position: relative;}#sk-container-id-12 div.sk-item {position: relative;z-index: 1;}#sk-container-id-12 div.sk-parallel {display: flex;align-items: stretch;justify-content: center;background-color: white;position: relative;}#sk-container-id-12 div.sk-item::before, #sk-container-id-12 div.sk-parallel-item::before {content: \"\";position: absolute;border-left: 1px solid gray;box-sizing: border-box;top: 0;bottom: 0;left: 50%;z-index: -1;}#sk-container-id-12 div.sk-parallel-item {display: flex;flex-direction: column;z-index: 1;position: relative;background-color: white;}#sk-container-id-12 div.sk-parallel-item:first-child::after {align-self: flex-end;width: 50%;}#sk-container-id-12 div.sk-parallel-item:last-child::after {align-self: flex-start;width: 50%;}#sk-container-id-12 div.sk-parallel-item:only-child::after {width: 0;}#sk-container-id-12 div.sk-dashed-wrapped {border: 1px dashed gray;margin: 0 0.4em 0.5em 0.4em;box-sizing: border-box;padding-bottom: 0.4em;background-color: white;}#sk-container-id-12 div.sk-label label {font-family: monospace;font-weight: bold;display: inline-block;line-height: 1.2em;}#sk-container-id-12 div.sk-label-container {text-align: center;}#sk-container-id-12 div.sk-container {/* jupyter's `normalize.less` sets `[hidden] { display: none; }` but bootstrap.min.css set `[hidden] { display: none !important; }` so we also need the `!important` here to be able to override the default hidden behavior on the sphinx rendered scikit-learn.org. See: https://github.com/scikit-learn/scikit-learn/issues/21755 */display: inline-block !important;position: relative;}#sk-container-id-12 div.sk-text-repr-fallback {display: none;}</style><div id=\"sk-container-id-12\" class=\"sk-top-container\"><div class=\"sk-text-repr-fallback\"><pre>Lasso(alpha=0.13)</pre><b>In a Jupyter environment, please rerun this cell to show the HTML representation or trust the notebook. <br />On GitHub, the HTML representation is unable to render, please try loading this page with nbviewer.org.</b></div><div class=\"sk-container\" hidden><div class=\"sk-item\"><div class=\"sk-estimator sk-toggleable\"><input class=\"sk-toggleable__control sk-hidden--visually\" id=\"sk-estimator-id-12\" type=\"checkbox\" checked><label for=\"sk-estimator-id-12\" class=\"sk-toggleable__label sk-toggleable__label-arrow\">Lasso</label><div class=\"sk-toggleable__content\"><pre>Lasso(alpha=0.13)</pre></div></div></div></div></div>"
      ],
      "text/plain": [
       "Lasso(alpha=0.13)"
      ]
     },
     "execution_count": 88,
     "metadata": {},
     "output_type": "execute_result"
    }
   ],
   "source": [
    "lasso.fit(X_scaled,y)"
   ]
  },
  {
   "cell_type": "code",
   "execution_count": 89,
   "id": "cde63766",
   "metadata": {},
   "outputs": [],
   "source": [
    "coefficients = lasso.coef_"
   ]
  },
  {
   "cell_type": "code",
   "execution_count": 90,
   "id": "27bf616f",
   "metadata": {},
   "outputs": [
    {
     "data": {
      "text/plain": [
       "array([0.00978369, 0.        , 0.        , 0.27225116, 0.06796772,\n",
       "       0.        , 0.        , 0.        , 0.        ])"
      ]
     },
     "execution_count": 90,
     "metadata": {},
     "output_type": "execute_result"
    }
   ],
   "source": [
    "coefficients"
   ]
  },
  {
   "cell_type": "code",
   "execution_count": 91,
   "id": "67f13477",
   "metadata": {},
   "outputs": [
    {
     "data": {
      "text/plain": [
       "<function matplotlib.pyplot.show(close=None, block=None)>"
      ]
     },
     "execution_count": 91,
     "metadata": {},
     "output_type": "execute_result"
    },
    {
     "data": {
      "image/png": "[encoded data removed]",
      "text/plain": [
       "<Figure size 1200x500 with 1 Axes>"
      ]
     },
     "metadata": {},
     "output_type": "display_data"
    }
   ],
   "source": [
    "plt.figure(figsize = (12,5))\n",
    "plt.bar(range(len(coefficients)),coefficients)\n",
    "plt.axhline(0, color = \"red\")\n",
    "plt.show"
   ]
  },
  {
   "cell_type": "markdown",
   "id": "e130a2be",
   "metadata": {},
   "source": [
    "# 5.) Do these coefficient magnitudes make sense?"
   ]
  },
  {
   "cell_type": "markdown",
   "id": "eb134d62",
   "metadata": {},
   "source": [
    "<font size = 3> Originally, a lambda value of 0.5 was used in the Lasso regression, which led to all coefficients being reduced to zero. Reducing lambda to 0.2 allowed the model to identify significant predictors and it makes sense. For \"MacBook\", \"Siri\", \"iPad\", \"AirPods\", \"AppleCare\", \"Apple trade-in\", they are all directly related to Apple's products or services. We would expect searches related to these terms to have some predictive power regarding Apple's revenue. However, the Lasso regression has shrunk the coefficients for all these terms except for \"MacBook\", \"AirPods\" and \"AppleCare\" to zero, suggesting that under the current model with the specified lambda, only \"MacBook\", \"AirPods\" and \"AppleCare\" are deemed significant predictors.\n",
    "\n",
    "<font size = 3>For \"Breakfast\", \"NKU\", \"Water\", they are not directly related to Apple or its products, and as expected, their coefficients are shrunk to zero, indicating they have no predictive power in this context.\n",
    "    \n",
    "<font size = 3>The non-zero coefficients for \"MacBook\", \"AirPods\" and \"AppleCare\" suggest these terms are valuable in predicting Apple's revenue, according to the model. However, the model's effectiveness would ultimately need to be validated on out-of-sample data to ensure these findings are not due to overfitting or a peculiarity of the dataset used to train the model."
   ]
  },
  {
   "cell_type": "markdown",
   "id": "3a2bd7d7",
   "metadata": {},
   "source": [
    "# 6.) Run a for loop looking at 10 different Lambdas and plot the coefficient magnitude for each."
   ]
  },
  {
   "cell_type": "code",
   "execution_count": null,
   "id": "1f115bee",
   "metadata": {},
   "outputs": [],
   "source": []
  },
  {
   "cell_type": "code",
   "execution_count": null,
   "id": "7a3e12d3",
   "metadata": {},
   "outputs": [],
   "source": []
  },
  {
   "cell_type": "markdown",
   "id": "17b28626",
   "metadata": {},
   "source": [
    "# 7.) Run a cross validation. What is your ideal lambda?"
   ]
  },
  {
   "cell_type": "code",
   "execution_count": null,
   "id": "9fc5cca1",
   "metadata": {},
   "outputs": [],
   "source": []
  },
  {
   "cell_type": "code",
   "execution_count": null,
   "id": "a58a192a",
   "metadata": {},
   "outputs": [],
   "source": []
  }
 ],
 "metadata": {
  "kernelspec": {
   "display_name": "Python 3 (ipykernel)",
   "language": "python",
   "name": "python3"
  },
  "language_info": {
   "codemirror_mode": {
    "name": "ipython",
    "version": 3
   },
   "file_extension": ".py",
   "mimetype": "text/x-python",
   "name": "python",
   "nbconvert_exporter": "python",
   "pygments_lexer": "ipython3",
   "version": "3.11.4"
  }
 },
 "nbformat": 4,
 "nbformat_minor": 5
}
